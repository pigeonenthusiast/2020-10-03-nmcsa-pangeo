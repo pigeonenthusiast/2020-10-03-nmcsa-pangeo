{
 "cells": [
  {
   "cell_type": "code",
   "execution_count": 2,
   "metadata": {},
   "outputs": [],
   "source": [
    "# Variables in python are symbolic names for data expressions and are created\n",
    "# with the assignment operator \"=\"; variable names may include numbers, but\n",
    "# must start with a letter:\n",
    "\n",
    "text = \"Data Carpentry\"  # An example of a string\n",
    "number = 42  # An example of an integer\n",
    "pi_value = 3.1415  # An example of a float\n",
    "is_true = True  # An example of a boolean"
   ]
  },
  {
   "cell_type": "code",
   "execution_count": 3,
   "metadata": {},
   "outputs": [
    {
     "data": {
      "text/plain": [
       "'Data Carpentry'"
      ]
     },
     "execution_count": 3,
     "metadata": {},
     "output_type": "execute_result"
    }
   ],
   "source": [
    "text"
   ]
  },
  {
   "cell_type": "code",
   "execution_count": 5,
   "metadata": {},
   "outputs": [
    {
     "data": {
      "text/plain": [
       "42"
      ]
     },
     "execution_count": 5,
     "metadata": {},
     "output_type": "execute_result"
    }
   ],
   "source": [
    "number"
   ]
  },
  {
   "cell_type": "code",
   "execution_count": 9,
   "metadata": {},
   "outputs": [],
   "source": [
    "# We can perform mathematical calculations in Python using the basic operators\n",
    "# +, -, /, *, %\n",
    "\n",
    "addition = 2 + 2\n",
    "subtraction = 10 - 5\n",
    "multiplication = 4 * 2\n",
    "float_quotient = 12 / 5\n",
    "integer_quotient = 12 // 5\n",
    "remainder = 12 % 5\n",
    "exponentiation = 2 ** 10"
   ]
  },
  {
   "cell_type": "code",
   "execution_count": 10,
   "metadata": {},
   "outputs": [
    {
     "name": "stdout",
     "output_type": "stream",
     "text": [
      "addition = 2 + 2:  4\n",
      "subtraction = 10 - 5:  5\n",
      "multiplication = 4 * 2:  8\n",
      "float_quotient = 12 / 5:  2.4\n",
      "integer_quotient = 12 // 5:  2\n",
      "remainder = 12 % 5:  2\n",
      "exponentiation = 2 ** 10:  1024\n"
     ]
    }
   ],
   "source": [
    "print(\"addition = 2 + 2: \", addition)\n",
    "print(\"subtraction = 10 - 5: \", subtraction)\n",
    "print(\"multiplication = 4 * 2: \", multiplication)\n",
    "print(\"float_quotient = 12 / 5: \", float_quotient)\n",
    "print(\"integer_quotient = 12 // 5: \", integer_quotient)\n",
    "print(\"remainder = 12 % 5: \", remainder)\n",
    "print(\"exponentiation = 2 ** 10: \", exponentiation)"
   ]
  },
  {
   "cell_type": "code",
   "execution_count": 11,
   "metadata": {},
   "outputs": [],
   "source": [
    "# We can also use conditional operators: <, >, ==, !=, <=, >=\n",
    "\n",
    "less_than = 5 < 6\n",
    "greater_than = 6 > 4\n",
    "is_equal = 5 == 5\n",
    "is_not_equal = 5 != 7\n",
    "less_than_or_equal = 2 <= 3\n",
    "greater_than_or_equal = 4 >= 3"
   ]
  },
  {
   "cell_type": "code",
   "execution_count": 12,
   "metadata": {},
   "outputs": [],
   "source": [
    "# We can also use conditional operators: <, >, ==, !=, <=, >=\n",
    "\n",
    "less_than = 5 < 6\n",
    "greater_than = 6 > 4\n",
    "is_equal = 5 == 5\n",
    "is_not_equal = 5 != 7\n",
    "less_than_or_equal = 2 <= 3\n",
    "greater_than_or_equal = 4 >= 3"
   ]
  },
  {
   "cell_type": "code",
   "execution_count": 7,
   "metadata": {},
   "outputs": [
    {
     "data": {
      "text/plain": [
       "True"
      ]
     },
     "execution_count": 7,
     "metadata": {},
     "output_type": "execute_result"
    }
   ],
   "source": []
  },
  {
   "cell_type": "code",
   "execution_count": 8,
   "metadata": {},
   "outputs": [
    {
     "data": {
      "text/plain": [
       "int"
      ]
     },
     "execution_count": 8,
     "metadata": {},
     "output_type": "execute_result"
    }
   ],
   "source": []
  },
  {
   "cell_type": "code",
   "execution_count": null,
   "metadata": {},
   "outputs": [],
   "source": []
  }
 ],
 "metadata": {
  "kernelspec": {
   "display_name": "Python 3",
   "language": "python",
   "name": "python3"
  },
  "language_info": {
   "codemirror_mode": {
    "name": "ipython",
    "version": 3
   },
   "file_extension": ".py",
   "mimetype": "text/x-python",
   "name": "python",
   "nbconvert_exporter": "python",
   "pygments_lexer": "ipython3",
   "version": "3.7.6"
  }
 },
 "nbformat": 4,
 "nbformat_minor": 4
}
