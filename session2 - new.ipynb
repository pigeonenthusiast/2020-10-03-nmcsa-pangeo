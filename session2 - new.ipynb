{
 "cells": [
  {
   "cell_type": "markdown",
   "metadata": {},
   "source": [
    "# NM Supercomputing Challenge 2020"
   ]
  },
  {
   "cell_type": "markdown",
   "metadata": {},
   "source": [
    "## Session #2 (Karl Benedict): Working with data in Pandas DataFrames\n",
    "\n",
    "[Pandas](https://pandas.pydata.org) is a powerful and flexible python library that provides a wide array of functionality for working with tabular data in python. Among the things that pandas provides are:\n",
    "\n",
    "* A specific DataFrame object that is the core of managing and interacting with tabular data efficiently\n",
    "* Tools for reading and writing tabular data in a variety of commonly used formats including CSV and other text files, Excel spreadsheets, a wide range of SQL databases, and the flexible HDF5 format. \n",
    "* Specific methods for aligning multiple dataframes and managing missing data\n",
    "* Reshaping methods for swapping rows and columns\n",
    "* Label-based methods for retrieving subsets from large dataframes\n",
    "* Methods for inserting and deleting columns\n",
    "* Tools for grouping rows in a dataset that meet specified criteria and performing actions on members of those groups\n",
    "* Methods for merging and joining multiple dataframes using linking variables and other strategies\n",
    "* Support for high-dimensional data in lower-dimensional data structures\n",
    "* Specific support for time-series analysis\n",
    "* Optimized for high performance\n",
    "\n",
    "Today we will only scratch the surface of pandas' capabilities. You can learn more through:\n",
    "\n",
    "* Lessons 3-6 in the Data Carpentries \"Data Analysis and Visualization in Python for Ecologists\" lesson. \n",
    "\n",
    "    * [Starting with Data](https://datacarpentry.org/python-ecology-lesson/02-starting-with-data/index.html), \n",
    "    * [Inexing, Slicing and Subsetting DataFrams in Python](https://datacarpentry.org/python-ecology-lesson/03-index-slice-subset/index.html), \n",
    "    * [Data Types and Formats](https://datacarpentry.org/python-ecology-lesson/04-data-types-and-format/index.html), and \n",
    "    * [Combining DataFrames with Pandas](https://datacarpentry.org/python-ecology-lesson/05-merging-data/index.html). \n",
    "* The collection of [pandas tutorials](https://pandas.pydata.org/docs/getting_started/intro_tutorials/) developed by the pandas project.\n",
    "* The [pandas documentation](https://pandas.pydata.org/docs/) developed and maintained by the pandas project. \n",
    "\n",
    "### Lesson Activities & Objectives\n",
    "\n",
    "In this brief introduction to pandas we are going to focus on and practice:\n",
    "\n",
    "* Reading data from an external text file into a pandas dataframe\n",
    "* Obtaining information about a dataframe and its contents\n",
    "* Working with different data types in dataframes\n",
    "* Writing data from a pandas dataframe to an external CSV file\n",
    "\n",
    "Following this lesson you should be able to:\n",
    "\n",
    "* Read and write CSV data files using pandas\n",
    "* Obtain key information about a pandas dataframe\n",
    "* Convert dataframe colums/series from one type to another"
   ]
  },
  {
   "cell_type": "markdown",
   "metadata": {},
   "source": [
    "### Lesson\n",
    "\n",
    "\n",
    "Before we can start we have to import the pandas library into our environment so that we can use its functionality"
   ]
  },
  {
   "cell_type": "code",
   "execution_count": 3,
   "metadata": {},
   "outputs": [],
   "source": [
    "import pandas as pd     # pd is a frequently used short name for pandas - saving typing"
   ]
  },
  {
   "cell_type": "markdown",
   "metadata": {},
   "source": [
    "Since we need to refer to pandas functions using the general python model  of `<library>.<method>`, e.g. `pandas.read_csv`, using `pd` as the short name for the imported library allows us to use a shorthand reference of `pd.read_csv`. "
   ]
  },
  {
   "cell_type": "markdown",
   "metadata": {},
   "source": [
    "#### Reading data into a pandas DataFrame\n",
    "\n",
    "A pandas dataframe is composed of columns of data of the same type. The supported types include the standard python text, numeric, sequence, mapping, set, boolean, and binary types; and the data types supported by the [numpy library](https://numpy.org/doc/stable/reference/generated/numpy.dtype.kind.html#numpy.dtype.kind). When data are imported pandas can autodetect and assign data types to the columns of imported data, you can also manually specify the data types when you import external data, or change data types once data are imported. "
   ]
  },
  {
   "cell_type": "code",
   "execution_count": 4,
   "metadata": {},
   "outputs": [],
   "source": [
    "surveys_df = pd.read_csv(\"data/surveys.csv\")  # or we can load it into a variable"
   ]
  },
  {
   "cell_type": "markdown",
   "metadata": {},
   "source": [
    "#### Geting information about a pandas dataframe\n",
    "\n",
    "You can find out what data types correspond to the columns in a dataframe by access the `dtypes` attribute of your dataframe.\n",
    "\n",
    "Pandas types and native python types\n",
    "\n",
    "* Object - String\n",
    "* int64 - int\n",
    "* float64 - float\n",
    "* datetime64 - N/A outside of the python `datetime` module\n",
    "* timedelta[ns] - N/A outside of the python `datetime` module"
   ]
  },
  {
   "cell_type": "code",
   "execution_count": 7,
   "metadata": {},
   "outputs": [
    {
     "data": {
      "text/plain": [
       "pandas.core.frame.DataFrame"
      ]
     },
     "execution_count": 7,
     "metadata": {},
     "output_type": "execute_result"
    }
   ],
   "source": [
    "type(surveys_df)   # what is the type of the dataframe as a whole?"
   ]
  },
  {
   "cell_type": "code",
   "execution_count": 8,
   "metadata": {},
   "outputs": [
    {
     "data": {
      "text/plain": [
       "dtype('O')"
      ]
     },
     "execution_count": 8,
     "metadata": {},
     "output_type": "execute_result"
    }
   ],
   "source": [
    "surveys_df['sex'].dtype # what is the type of a specific column/series"
   ]
  },
  {
   "cell_type": "code",
   "execution_count": 9,
   "metadata": {},
   "outputs": [
    {
     "data": {
      "text/plain": [
       "dtype('int64')"
      ]
     },
     "execution_count": 9,
     "metadata": {},
     "output_type": "execute_result"
    }
   ],
   "source": [
    "surveys_df['record_id'].dtype"
   ]
  },
  {
   "cell_type": "code",
   "execution_count": 10,
   "metadata": {},
   "outputs": [
    {
     "data": {
      "text/plain": [
       "record_id            int64\n",
       "month                int64\n",
       "day                  int64\n",
       "year                 int64\n",
       "plot_id              int64\n",
       "species_id          object\n",
       "sex                 object\n",
       "hindfoot_length    float64\n",
       "weight             float64\n",
       "dtype: object"
      ]
     },
     "execution_count": 10,
     "metadata": {},
     "output_type": "execute_result"
    }
   ],
   "source": [
    "surveys_df.dtypes"
   ]
  },
  {
   "cell_type": "markdown",
   "metadata": {},
   "source": [
    "Working with integers and floats"
   ]
  },
  {
   "cell_type": "code",
   "execution_count": 12,
   "metadata": {},
   "outputs": [
    {
     "name": "stdout",
     "output_type": "stream",
     "text": [
      "10\n"
     ]
    }
   ],
   "source": [
    "print(5+5)"
   ]
  },
  {
   "cell_type": "code",
   "execution_count": 13,
   "metadata": {},
   "outputs": [
    {
     "name": "stdout",
     "output_type": "stream",
     "text": [
      "20\n"
     ]
    }
   ],
   "source": [
    "print(24-4)"
   ]
  },
  {
   "cell_type": "code",
   "execution_count": 14,
   "metadata": {},
   "outputs": [
    {
     "name": "stdout",
     "output_type": "stream",
     "text": [
      "0.5555555555555556\n"
     ]
    }
   ],
   "source": [
    "print(5/9)"
   ]
  },
  {
   "cell_type": "code",
   "execution_count": 15,
   "metadata": {},
   "outputs": [
    {
     "name": "stdout",
     "output_type": "stream",
     "text": [
      "3.3333333333333335\n"
     ]
    }
   ],
   "source": [
    "print(10/3)"
   ]
  },
  {
   "cell_type": "code",
   "execution_count": 16,
   "metadata": {},
   "outputs": [
    {
     "data": {
      "text/plain": [
       "7"
      ]
     },
     "execution_count": 16,
     "metadata": {},
     "output_type": "execute_result"
    }
   ],
   "source": [
    "# Convert a to an integer\n",
    "a = 7.83\n",
    "int(a)"
   ]
  },
  {
   "cell_type": "code",
   "execution_count": 17,
   "metadata": {},
   "outputs": [
    {
     "data": {
      "text/plain": [
       "7.0"
      ]
     },
     "execution_count": 17,
     "metadata": {},
     "output_type": "execute_result"
    }
   ],
   "source": [
    "# Convert b to a float\n",
    "b = 7\n",
    "float(b)"
   ]
  },
  {
   "cell_type": "markdown",
   "metadata": {},
   "source": [
    "Working with dataframe columns/series"
   ]
  },
  {
   "cell_type": "code",
   "execution_count": 11,
   "metadata": {},
   "outputs": [
    {
     "data": {
      "text/plain": [
       "dtype('float64')"
      ]
     },
     "execution_count": 11,
     "metadata": {},
     "output_type": "execute_result"
    }
   ],
   "source": [
    "# Convert the record_id field from an integer to a float\n",
    "surveys_df['record_id'] = surveys_df['record_id'].astype('float64')\n",
    "surveys_df['record_id'].dtype"
   ]
  },
  {
   "cell_type": "markdown",
   "metadata": {},
   "source": [
    "Working with missing values - NaN"
   ]
  },
  {
   "cell_type": "code",
   "execution_count": 18,
   "metadata": {},
   "outputs": [
    {
     "data": {
      "text/plain": [
       "42.672428212991356"
      ]
     },
     "execution_count": 18,
     "metadata": {},
     "output_type": "execute_result"
    }
   ],
   "source": [
    "surveys_df['weight'].mean()"
   ]
  },
  {
   "cell_type": "code",
   "execution_count": 19,
   "metadata": {},
   "outputs": [
    {
     "data": {
      "text/plain": [
       "32283"
      ]
     },
     "execution_count": 19,
     "metadata": {},
     "output_type": "execute_result"
    }
   ],
   "source": [
    "len(surveys_df[pd.isnull(surveys_df.weight)])\n",
    "# How many rows have weight values?\n",
    "len(surveys_df[surveys_df.weight > 0])"
   ]
  },
  {
   "cell_type": "code",
   "execution_count": 20,
   "metadata": {},
   "outputs": [],
   "source": [
    "df1 = surveys_df.copy()\n",
    "# Fill all NaN values with 0\n",
    "df1['weight'] = df1['weight'].fillna(0)"
   ]
  },
  {
   "cell_type": "code",
   "execution_count": 21,
   "metadata": {},
   "outputs": [
    {
     "data": {
      "text/plain": [
       "38.751976145601844"
      ]
     },
     "execution_count": 21,
     "metadata": {},
     "output_type": "execute_result"
    }
   ],
   "source": [
    "df1['weight'].mean()"
   ]
  },
  {
   "cell_type": "code",
   "execution_count": 22,
   "metadata": {},
   "outputs": [],
   "source": [
    "df1['weight'] = surveys_df['weight'].fillna(surveys_df['weight'].mean())"
   ]
  },
  {
   "cell_type": "code",
   "execution_count": null,
   "metadata": {},
   "outputs": [],
   "source": []
  },
  {
   "cell_type": "code",
   "execution_count": null,
   "metadata": {},
   "outputs": [],
   "source": []
  },
  {
   "cell_type": "markdown",
   "metadata": {},
   "source": [
    "#### Writing pandas dataframes to external files \n",
    "\n",
    "Pandas can export dataframes in a variety of formats including CSV, Excel, JSON, HTML, SQL databses, and as a python \"pickle\" file. While each format has its own options, we will focus on exporting our dataframe as a CSV file using the [`to_csv()` function](https://pandas.pydata.org/pandas-docs/stable/reference/api/pandas.DataFrame.to_csv.html). \n",
    "\n",
    "In its basic form you can just specify the relative or absolute path/filename for the file to be written."
   ]
  },
  {
   "cell_type": "code",
   "execution_count": 85,
   "metadata": {},
   "outputs": [],
   "source": [
    "survey_df.to_csv(\"data/my_data.csv\")"
   ]
  },
  {
   "cell_type": "code",
   "execution_count": null,
   "metadata": {},
   "outputs": [],
   "source": []
  }
 ],
 "metadata": {
  "kernelspec": {
   "display_name": "Python 3",
   "language": "python",
   "name": "python3"
  },
  "language_info": {
   "codemirror_mode": {
    "name": "ipython",
    "version": 3
   },
   "file_extension": ".py",
   "mimetype": "text/x-python",
   "name": "python",
   "nbconvert_exporter": "python",
   "pygments_lexer": "ipython3",
   "version": "3.7.6"
  }
 },
 "nbformat": 4,
 "nbformat_minor": 4
}
